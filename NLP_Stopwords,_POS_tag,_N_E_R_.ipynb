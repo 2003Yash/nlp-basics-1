{
  "nbformat": 4,
  "nbformat_minor": 0,
  "metadata": {
    "colab": {
      "provenance": [],
      "authorship_tag": "ABX9TyOHuAZAH150SBrrhV34nyxf",
      "include_colab_link": true
    },
    "kernelspec": {
      "name": "python3",
      "display_name": "Python 3"
    },
    "language_info": {
      "name": "python"
    }
  },
  "cells": [
    {
      "cell_type": "markdown",
      "metadata": {
        "id": "view-in-github",
        "colab_type": "text"
      },
      "source": [
        "<a href=\"https://colab.research.google.com/github/2003Yash/nlp-basics-1/blob/main/NLP_Stopwords%2C_POS_tag%2C_N_E_R_.ipynb\" target=\"_parent\"><img src=\"https://colab.research.google.com/assets/colab-badge.svg\" alt=\"Open In Colab\"/></a>"
      ]
    },
    {
      "cell_type": "code",
      "execution_count": null,
      "metadata": {
        "id": "q4M3ajax6VMO"
      },
      "outputs": [],
      "source": [
        "sadhguru = \"\"\" Sadhguru (born Jagadish Vasudev, 3 September 1957) is the founder and head of the Isha Foundation, based in Coimbatore, India.\n",
        "The foundation, established in 1992, operates an ashram and yoga centre that carries out educational and spiritual activities.\n",
        "Sadhguru has been teaching yoga since 1982. He is the author of the New York Times bestsellers Inner Engineering: A Yogi's Guide to Joy and Karma: A Yogi's Guide to Crafting Your Destiny, and a frequent speaker at international forums.\n",
        "Sadhguru also advocates for protecting the environment against climate change, leading many initiatives like Project GreenHands (PGH), Rally for Rivers, Cauvery Calling,\n",
        "and the Journey to Save Soil. In 2017, he received the Padma Vibhushan, India's second-highest civilian award, for his contributions to spirituality and humanitarian services.\n",
        "Also in 2017, Sadhguru unveiled the Adiyogi Shiva statue, the world's largest bust, in Coimbatore, India\n",
        "\"\"\""
      ]
    },
    {
      "cell_type": "code",
      "source": [
        "import nltk\n",
        "nltk.download('punkt')\n",
        "from nltk.stem import PorterStemmer\n",
        "nltk.download('stopwords')\n",
        "from nltk.corpus import stopwords\n",
        "from nltk import sent_tokenize, word_tokenize"
      ],
      "metadata": {
        "colab": {
          "base_uri": "https://localhost:8080/"
        },
        "id": "4B-uXmVF7Quy",
        "outputId": "fe4d2e32-b4fc-4858-a5d1-fcd6fb117208"
      },
      "execution_count": null,
      "outputs": [
        {
          "output_type": "stream",
          "name": "stderr",
          "text": [
            "[nltk_data] Downloading package punkt to /root/nltk_data...\n",
            "[nltk_data]   Package punkt is already up-to-date!\n",
            "[nltk_data] Downloading package stopwords to /root/nltk_data...\n",
            "[nltk_data]   Unzipping corpora/stopwords.zip.\n"
          ]
        }
      ]
    },
    {
      "cell_type": "markdown",
      "source": [
        "**REMOVING STOPWORDS**"
      ],
      "metadata": {
        "id": "4M08_UO5-23L"
      }
    },
    {
      "cell_type": "code",
      "source": [
        "stopwords.words('english')\n",
        "#to print all stopwords from the english language"
      ],
      "metadata": {
        "id": "5be1vWbH7wSM"
      },
      "execution_count": null,
      "outputs": []
    },
    {
      "cell_type": "markdown",
      "source": [
        "**POS TAGGING**"
      ],
      "metadata": {
        "id": "0c-YLPnL-zMr"
      }
    },
    {
      "cell_type": "code",
      "source": [
        "documents = sent_tokenize(sadhguru)\n",
        "stemmer = PorterStemmer()\n",
        "\n",
        "from nltk import pos_tag\n",
        "nltk.download('averaged_perceptron_tagger')"
      ],
      "metadata": {
        "colab": {
          "base_uri": "https://localhost:8080/"
        },
        "id": "0q6Qj-cF8SBm",
        "outputId": "ccc30626-3edc-43fa-e825-6c42b572ff8d"
      },
      "execution_count": null,
      "outputs": [
        {
          "output_type": "stream",
          "name": "stderr",
          "text": [
            "[nltk_data] Downloading package averaged_perceptron_tagger to\n",
            "[nltk_data]     /root/nltk_data...\n",
            "[nltk_data]   Unzipping taggers/averaged_perceptron_tagger.zip.\n"
          ]
        },
        {
          "output_type": "execute_result",
          "data": {
            "text/plain": [
              "True"
            ]
          },
          "metadata": {},
          "execution_count": 18
        }
      ]
    },
    {
      "cell_type": "code",
      "source": [
        "for i in range(len(documents)):\n",
        "    documents[i] = documents[i].lower()\n",
        "    words = word_tokenize(documents[i])\n",
        "    words = [stemmer.stem(word) for word in words if word not in stopwords.words('english')]\n",
        "    pos_tags = pos_tag(words)\n",
        "    print(pos_tags)\n",
        "    # documents[i] = words will just put each words as a list not as a stopwords removed sentences so we need to join words with a space to make them sentences\n",
        "    documents[i] = ' '.join(words)"
      ],
      "metadata": {
        "colab": {
          "base_uri": "https://localhost:8080/"
        },
        "id": "QRuN5U7P8do-",
        "outputId": "9494ce21-be83-44c2-d396-6f5db1c202bd"
      },
      "execution_count": null,
      "outputs": [
        {
          "output_type": "stream",
          "name": "stdout",
          "text": [
            "[('sadhguru', 'NN'), ('(', '('), ('born', 'JJ'), ('jagadish', 'NN'), ('vasudev', 'NN'), (',', ','), ('3', 'CD'), ('septemb', 'NN'), ('1957', 'CD'), (')', ')'), ('founder', 'NN'), ('head', 'NN'), ('isha', 'NN'), ('foundat', 'NN'), (',', ','), ('base', 'NN'), ('coimbator', 'NN'), (',', ','), ('india', 'NN'), ('.', '.')]\n",
            "[('foundat', 'NN'), (',', ','), ('establish', 'VB'), ('1992', 'CD'), (',', ','), ('oper', 'JJR'), ('ashram', 'NN'), ('yoga', 'NN'), ('centr', 'NN'), ('carri', 'NN'), ('educ', 'NN'), ('spiritu', 'NN'), ('activ', 'NN'), ('.', '.')]\n",
            "[('sadhguru', 'JJ'), ('teach', 'NN'), ('yoga', 'NN'), ('sinc', 'NN'), ('1982', 'CD'), ('.', '.')]\n",
            "[('author', 'JJ'), ('new', 'JJ'), ('york', 'NN'), ('time', 'NN'), ('bestsel', 'JJ'), ('inner', 'JJ'), ('engin', 'NN'), (':', ':'), ('yogi', 'NN'), (\"'s\", 'POS'), ('guid', 'NN'), ('joy', 'NN'), ('karma', 'NN'), (':', ':'), ('yogi', 'NN'), (\"'s\", 'POS'), ('guid', 'NN'), ('craft', 'NN'), ('destini', 'NN'), (',', ','), ('frequent', 'JJ'), ('speaker', 'NN'), ('intern', 'JJ'), ('forum', 'NN'), ('.', '.')]\n",
            "[('sadhguru', 'NN'), ('also', 'RB'), ('advoc', 'JJ'), ('protect', 'VBP'), ('environ', 'JJ'), ('climat', 'NN'), ('chang', 'NN'), (',', ','), ('lead', 'JJ'), ('mani', 'NN'), ('initi', 'NN'), ('like', 'IN'), ('project', 'NN'), ('greenhand', 'NN'), ('(', '('), ('pgh', 'NN'), (')', ')'), (',', ','), ('ralli', 'JJ'), ('river', 'NN'), (',', ','), ('cauveri', 'NN'), ('call', 'NN'), (',', ','), ('journey', 'NN'), ('save', 'NN'), ('soil', 'NN'), ('.', '.')]\n",
            "[('2017', 'CD'), (',', ','), ('receiv', 'VBZ'), ('padma', 'NN'), ('vibhushan', 'NN'), (',', ','), ('india', 'NN'), (\"'s\", 'POS'), ('second-highest', 'JJ'), ('civilian', 'JJ'), ('award', 'NN'), (',', ','), ('contribut', 'NN'), ('spiritu', 'NN'), ('humanitarian', 'JJ'), ('servic', 'NN'), ('.', '.')]\n",
            "[('also', 'RB'), ('2017', 'CD'), (',', ','), ('sadhguru', 'FW'), ('unveil', 'JJ'), ('adiyogi', 'NN'), ('shiva', 'NN'), ('statu', 'NN'), (',', ','), ('world', 'NN'), (\"'s\", 'POS'), ('largest', 'JJS'), ('bust', 'NN'), (',', ','), ('coimbator', 'NN'), (',', ','), ('india', 'NN')]\n"
          ]
        }
      ]
    },
    {
      "cell_type": "code",
      "source": [
        "documents"
      ],
      "metadata": {
        "colab": {
          "base_uri": "https://localhost:8080/"
        },
        "id": "si1Edvsd-aLI",
        "outputId": "4a3fbae1-0586-438b-f7a2-59bc06484518"
      },
      "execution_count": null,
      "outputs": [
        {
          "output_type": "execute_result",
          "data": {
            "text/plain": [
              "['sadhguru ( born jagadish vasudev , 3 septemb 1957 ) founder head isha foundat , base coimbator , india .',\n",
              " 'foundat , establish 1992 , oper ashram yoga centr carri educ spiritu activ .',\n",
              " 'sadhguru teach yoga sinc 1982 .',\n",
              " \"author new york time bestsel inner engin : yogi 's guid joy karma : yogi 's guid craft destini , frequent speaker intern forum .\",\n",
              " 'sadhguru also advoc protect environ climat chang , lead mani initi like project greenhand ( pgh ) , ralli river , cauveri call , journey save soil .',\n",
              " \"2017 , receiv padma vibhushan , india 's second-highest civilian award , contribut spiritu humanitarian servic .\",\n",
              " \"also 2017 , sadhguru unveil adiyogi shiva statu , world 's largest bust , coimbator , india\"]"
            ]
          },
          "metadata": {},
          "execution_count": 25
        }
      ]
    },
    {
      "cell_type": "code",
      "source": [
        "#to convert a sentence into words by dividing at the space\n",
        "\n",
        "words = \"Taj Mahal is a beautiful monument\".split()\n",
        "print(words)"
      ],
      "metadata": {
        "colab": {
          "base_uri": "https://localhost:8080/"
        },
        "id": "PdmT-Ji9B4yn",
        "outputId": "a059b0af-2060-46fe-8086-bd1aa2b8803b"
      },
      "execution_count": null,
      "outputs": [
        {
          "output_type": "stream",
          "name": "stdout",
          "text": [
            "['Taj', 'Mahal', 'is', 'a', 'beautiful', 'monument']\n"
          ]
        }
      ]
    },
    {
      "cell_type": "code",
      "source": [
        "print(pos_tag(\"Taj Mahal is a beautiful monument\".split()))\n",
        "#pos_tag always expects a list of strings"
      ],
      "metadata": {
        "colab": {
          "base_uri": "https://localhost:8080/"
        },
        "id": "gsE3RayxCHg5",
        "outputId": "1b7620c8-37c6-4b0b-8cb1-385c96836892"
      },
      "execution_count": null,
      "outputs": [
        {
          "output_type": "stream",
          "name": "stdout",
          "text": [
            "[('Taj', 'NNP'), ('Mahal', 'NNP'), ('is', 'VBZ'), ('a', 'DT'), ('beautiful', 'JJ'), ('monument', 'NN')]\n"
          ]
        }
      ]
    },
    {
      "cell_type": "markdown",
      "source": [
        "**Named-Entity-Recognization**"
      ],
      "metadata": {
        "id": "2P4f6-LRCnfC"
      }
    },
    {
      "cell_type": "code",
      "source": [
        "nae_corpus = \"Who let the dogs out, who, who, who\"\n",
        "words_nae = word_tokenize(nae_corpus)\n",
        "pos_words = pos_tag(words_nae)"
      ],
      "metadata": {
        "id": "wi5KiMhVCUPA"
      },
      "execution_count": null,
      "outputs": []
    },
    {
      "cell_type": "code",
      "source": [
        "nltk.download('maxent_ne_chunker')\n",
        "nltk.download('words')"
      ],
      "metadata": {
        "colab": {
          "base_uri": "https://localhost:8080/"
        },
        "id": "WJcXakUCOL71",
        "outputId": "33ac5b9e-fe12-417b-d3d0-7b5f5813e33f"
      },
      "execution_count": null,
      "outputs": [
        {
          "output_type": "stream",
          "name": "stderr",
          "text": [
            "[nltk_data] Downloading package maxent_ne_chunker to\n",
            "[nltk_data]     /root/nltk_data...\n",
            "[nltk_data]   Unzipping chunkers/maxent_ne_chunker.zip.\n",
            "[nltk_data] Downloading package words to /root/nltk_data...\n",
            "[nltk_data]   Unzipping corpora/words.zip.\n"
          ]
        },
        {
          "output_type": "execute_result",
          "data": {
            "text/plain": [
              "True"
            ]
          },
          "metadata": {},
          "execution_count": 33
        }
      ]
    },
    {
      "cell_type": "code",
      "source": [
        "nltk.ne_chunk(pos_words)"
      ],
      "metadata": {
        "colab": {
          "base_uri": "https://localhost:8080/",
          "height": 349
        },
        "id": "K0VIQZm3OVLh",
        "outputId": "27e76ffc-acc0-4bda-d00e-1dd0769e0879"
      },
      "execution_count": null,
      "outputs": [
        {
          "output_type": "error",
          "ename": "ModuleNotFoundError",
          "evalue": "No module named 'svgling'",
          "traceback": [
            "\u001b[0;31m---------------------------------------------------------------------------\u001b[0m",
            "\u001b[0;31mModuleNotFoundError\u001b[0m                       Traceback (most recent call last)",
            "\u001b[0;32m/usr/local/lib/python3.10/dist-packages/IPython/core/formatters.py\u001b[0m in \u001b[0;36m__call__\u001b[0;34m(self, obj)\u001b[0m\n\u001b[1;32m    343\u001b[0m             \u001b[0mmethod\u001b[0m \u001b[0;34m=\u001b[0m \u001b[0mget_real_method\u001b[0m\u001b[0;34m(\u001b[0m\u001b[0mobj\u001b[0m\u001b[0;34m,\u001b[0m \u001b[0mself\u001b[0m\u001b[0;34m.\u001b[0m\u001b[0mprint_method\u001b[0m\u001b[0;34m)\u001b[0m\u001b[0;34m\u001b[0m\u001b[0;34m\u001b[0m\u001b[0m\n\u001b[1;32m    344\u001b[0m             \u001b[0;32mif\u001b[0m \u001b[0mmethod\u001b[0m \u001b[0;32mis\u001b[0m \u001b[0;32mnot\u001b[0m \u001b[0;32mNone\u001b[0m\u001b[0;34m:\u001b[0m\u001b[0;34m\u001b[0m\u001b[0;34m\u001b[0m\u001b[0m\n\u001b[0;32m--> 345\u001b[0;31m                 \u001b[0;32mreturn\u001b[0m \u001b[0mmethod\u001b[0m\u001b[0;34m(\u001b[0m\u001b[0;34m)\u001b[0m\u001b[0;34m\u001b[0m\u001b[0;34m\u001b[0m\u001b[0m\n\u001b[0m\u001b[1;32m    346\u001b[0m             \u001b[0;32mreturn\u001b[0m \u001b[0;32mNone\u001b[0m\u001b[0;34m\u001b[0m\u001b[0;34m\u001b[0m\u001b[0m\n\u001b[1;32m    347\u001b[0m         \u001b[0;32melse\u001b[0m\u001b[0;34m:\u001b[0m\u001b[0;34m\u001b[0m\u001b[0;34m\u001b[0m\u001b[0m\n",
            "\u001b[0;32m/usr/local/lib/python3.10/dist-packages/nltk/tree/tree.py\u001b[0m in \u001b[0;36m_repr_svg_\u001b[0;34m(self)\u001b[0m\n\u001b[1;32m    780\u001b[0m \u001b[0;34m\u001b[0m\u001b[0m\n\u001b[1;32m    781\u001b[0m     \u001b[0;32mdef\u001b[0m \u001b[0m_repr_svg_\u001b[0m\u001b[0;34m(\u001b[0m\u001b[0mself\u001b[0m\u001b[0;34m)\u001b[0m\u001b[0;34m:\u001b[0m\u001b[0;34m\u001b[0m\u001b[0;34m\u001b[0m\u001b[0m\n\u001b[0;32m--> 782\u001b[0;31m         \u001b[0;32mfrom\u001b[0m \u001b[0msvgling\u001b[0m \u001b[0;32mimport\u001b[0m \u001b[0mdraw_tree\u001b[0m\u001b[0;34m\u001b[0m\u001b[0;34m\u001b[0m\u001b[0m\n\u001b[0m\u001b[1;32m    783\u001b[0m \u001b[0;34m\u001b[0m\u001b[0m\n\u001b[1;32m    784\u001b[0m         \u001b[0;32mreturn\u001b[0m \u001b[0mdraw_tree\u001b[0m\u001b[0;34m(\u001b[0m\u001b[0mself\u001b[0m\u001b[0;34m)\u001b[0m\u001b[0;34m.\u001b[0m\u001b[0m_repr_svg_\u001b[0m\u001b[0;34m(\u001b[0m\u001b[0;34m)\u001b[0m\u001b[0;34m\u001b[0m\u001b[0;34m\u001b[0m\u001b[0m\n",
            "\u001b[0;31mModuleNotFoundError\u001b[0m: No module named 'svgling'"
          ]
        },
        {
          "output_type": "execute_result",
          "data": {
            "text/plain": [
              "Tree('S', [('Who', 'WP'), ('let', 'VBD'), ('the', 'DT'), ('dogs', 'NNS'), ('out', 'RP'), (',', ','), ('who', 'WP'), (',', ','), ('who', 'WP'), (',', ','), ('who', 'WP')])"
            ]
          },
          "metadata": {},
          "execution_count": 38
        }
      ]
    },
    {
      "cell_type": "code",
      "source": [
        "print(nltk.ne_chunk(pos_words))"
      ],
      "metadata": {
        "colab": {
          "base_uri": "https://localhost:8080/"
        },
        "id": "v5YyO_69OgIe",
        "outputId": "200bad20-36b6-4ac4-9368-04da3d7edd11"
      },
      "execution_count": null,
      "outputs": [
        {
          "output_type": "stream",
          "name": "stdout",
          "text": [
            "(S\n",
            "  Who/WP\n",
            "  let/VBD\n",
            "  the/DT\n",
            "  dogs/NNS\n",
            "  out/RP\n",
            "  ,/,\n",
            "  who/WP\n",
            "  ,/,\n",
            "  who/WP\n",
            "  ,/,\n",
            "  who/WP)\n"
          ]
        }
      ]
    }
  ]
}